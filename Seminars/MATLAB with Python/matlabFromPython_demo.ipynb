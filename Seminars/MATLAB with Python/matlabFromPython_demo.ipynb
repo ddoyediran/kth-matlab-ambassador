{
 "cells": [
  {
   "cell_type": "markdown",
   "metadata": {},
   "source": [
    "# Calling MATLAB from Python\n",
    "In this Jupyter notebook, I will briefly go over how to call MATLAB from Python. \n",
    "To learn how to call MATLAB from Python, check this [live script](https://github.com/simonthor/kth-matlab-ambassador/tree/master/Seminars/MATLAB%20with%20Python/pythonFromMatlab_demo.mlx).\n",
    "This tutorial assumes that you already know how to use basic Python and MATLAB, and that you have ran `python setup.py install`"
   ]
  },
  {
   "cell_type": "markdown",
   "metadata": {},
   "source": [
    "## Getting started with MATLAB in Python\n",
    "The first step is to import the MATLAB module (and some other packages which are optional) as follows:"
   ]
  },
  {
   "cell_type": "code",
   "execution_count": null,
   "metadata": {},
   "outputs": [],
   "source": [
    "import matlab.engine\n",
    "import numpy as np\n",
    "import pandas as pd"
   ]
  },
  {
   "cell_type": "markdown",
   "metadata": {},
   "source": [
    "Start a MATLAB session:"
   ]
  },
  {
   "cell_type": "code",
   "execution_count": null,
   "metadata": {},
   "outputs": [],
   "source": [
    "eng = matlab.engine.start_matlab()"
   ]
  },
  {
   "cell_type": "markdown",
   "metadata": {},
   "source": [
    "The usage of MATLAB in Python is similar to the syntax of Python in MATLAB. We can call any MATLAB command using `eng.[command]`. \n",
    "Here are some examples:"
   ]
  },
  {
   "cell_type": "code",
   "execution_count": null,
   "metadata": {},
   "outputs": [],
   "source": [
    "print(eng.sqrt(10.), eng.abs(-10), eng.integral(eng.eval('@(a)a.^2'), 0., 10.))\n",
    "eng.strsplit('I am calling MATLAB from Python', ' ')"
   ]
  },
  {
   "cell_type": "markdown",
   "metadata": {},
   "source": [
    "As you can see, the transition between MATLAB types and Python types is very smooth. \n",
    "One thing to note is that the default type in MATLAB for numbers is a double and some functions do not accept integers. Example:"
   ]
  },
  {
   "cell_type": "code",
   "execution_count": null,
   "metadata": {},
   "outputs": [],
   "source": [
    "print(eng.sqrt(10.)) # Works\n",
    "print(eng.sqrt(10))  # Does not work"
   ]
  },
  {
   "cell_type": "markdown",
   "metadata": {},
   "source": [
    "MATLAB matricies in Python has its special type. These are typically returned from MATLAB functions. They can also be created in Python:"
   ]
  },
  {
   "cell_type": "code",
   "execution_count": null,
   "metadata": {},
   "outputs": [],
   "source": [
    "print('MATLAB array with doubles:', matlab.double(range(10)))\n",
    "print('MATLAB array with ints:', matlab.int32(range(10)))\n",
    "# This function returns roots as a MATLAB double\n",
    "print(eng.roots(matlab.double([5, 10, 11])))"
   ]
  },
  {
   "cell_type": "markdown",
   "metadata": {},
   "source": [
    "These MATLAB types can be easily integrated with numpy arrays!"
   ]
  },
  {
   "cell_type": "code",
   "execution_count": null,
   "metadata": {},
   "outputs": [],
   "source": [
    "print('Numpy array to MATLAB double:', matlab.double(np.arange(10).tolist()))\n",
    "print('MATLAB double to numpy array:', np.array(matlab.double(range(10))))\n",
    "# Solve system of linear equations:\n",
    "solution = np.array(eng.eval(r\"magic(3) \\ [1 2 3]';\"))\n",
    "print(solution)"
   ]
  },
  {
   "cell_type": "markdown",
   "metadata": {},
   "source": [
    "End the MATLAB session:"
   ]
  },
  {
   "cell_type": "code",
   "execution_count": null,
   "metadata": {},
   "outputs": [],
   "source": [
    "eng.quit()"
   ]
  }
 ],
 "metadata": {
  "kernelspec": {
   "display_name": "matlabxpython [conda env:env]",
   "language": "python",
   "name": "conda-env-env-py"
  },
  "language_info": {
   "codemirror_mode": {
    "name": "ipython",
    "version": 3
   },
   "file_extension": ".py",
   "mimetype": "text/x-python",
   "name": "python",
   "nbconvert_exporter": "python",
   "pygments_lexer": "ipython3",
   "version": "3.7.9"
  }
 },
 "nbformat": 4,
 "nbformat_minor": 4
}
